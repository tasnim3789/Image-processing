{
 "cells": [
  {
   "cell_type": "code",
   "execution_count": null,
   "metadata": {
    "colab": {
     "base_uri": "https://localhost:8080/"
    },
    "id": "2w4Tmev72Fk2",
    "outputId": "21a1145d-9136-4f41-adcb-9c619c9d1a17"
   },
   "outputs": [],
   "source": [
    "from google.colab import drive\n",
    "drive.mount('/content/drive')"
   ]
  },
  {
   "cell_type": "code",
   "execution_count": null,
   "metadata": {
    "id": "bsKMpRHH2LIX"
   },
   "outputs": [],
   "source": [
    "import cv2\n",
    "import os\n",
    "import matplotlib.pyplot as plt"
   ]
  },
  {
   "cell_type": "code",
   "execution_count": null,
   "metadata": {
    "id": "_O9Pvk1W2LLD"
   },
   "outputs": [],
   "source": [
    "# Input and output directories\n",
    "input_dir = \"D:\\\\Research Related Work\\\\brain cancer\\\\Dataset\\\\combined 2nd data pre\\\\glioma\"\n",
    "output_dir = \"D:\\\\Research Related Work\\\\brain cancer\\\\Dataset\\\\combined 2nd data pre\\\\Tumor cl\\\\glioma cl\""
   ]
  },
  {
   "cell_type": "code",
   "execution_count": null,
   "metadata": {
    "colab": {
     "base_uri": "https://localhost:8080/",
     "height": 1000
    },
    "id": "bZKdmQPO2LOo",
    "outputId": "983c3d32-8a27-4cf6-bbd9-dfea2e3b6e69"
   },
   "outputs": [],
   "source": [
    "# Iterate through the files in the input directory\n",
    "for filename in os.listdir(input_dir):\n",
    "    # Load the color image\n",
    "    image = cv2.imread(os.path.join(input_dir, filename))\n",
    "\n",
    "    # Split color channels\n",
    "    b, g, r = cv2.split(image)\n",
    "\n",
    "    # Apply CLAHE to each color channel\n",
    "    clahe = cv2.createCLAHE(clipLimit=3.0, tileGridSize=(8, 8))\n",
    "    clahe_b = clahe.apply(b)\n",
    "    clahe_g = clahe.apply(g)\n",
    "    clahe_r = clahe.apply(r)\n",
    "\n",
    "    # Merge equalized channels back into an RGB image\n",
    "    clahe_image = cv2.merge((clahe_b, clahe_g, clahe_r))\n",
    "\n",
    "    # Save the enhanced image to the output directory\n",
    "    output_path = os.path.join(output_dir, filename)\n",
    "    cv2.imwrite(output_path, clahe_image)\n",
    "\n",
    "    # Display the enhanced image (optional)\n",
    "    plt.imshow(cv2.cvtColor(clahe_image, cv2.COLOR_BGR2RGB))\n",
    "    plt.axis('off')\n",
    "  "
   ]
  },
  {
   "cell_type": "code",
   "execution_count": null,
   "metadata": {},
   "outputs": [],
   "source": []
  }
 ],
 "metadata": {
  "colab": {
   "provenance": []
  },
  "kernelspec": {
   "display_name": "Python 3 (ipykernel)",
   "language": "python",
   "name": "python3"
  },
  "language_info": {
   "codemirror_mode": {
    "name": "ipython",
    "version": 3
   },
   "file_extension": ".py",
   "mimetype": "text/x-python",
   "name": "python",
   "nbconvert_exporter": "python",
   "pygments_lexer": "ipython3",
   "version": "3.10.9"
  }
 },
 "nbformat": 4,
 "nbformat_minor": 1
}
